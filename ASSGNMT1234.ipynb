{
 "cells": [
  {
   "cell_type": "markdown",
   "metadata": {},
   "source": [
    "2.1. Problem Statement: STATISTICS 1\n",
    "\n",
    "1. You survey households in your area to find the average rent they are paying. Findthe standard deviation from the following data:$1550, $1700, $900, $850, $1000, $950."
   ]
  },
  {
   "cell_type": "code",
   "execution_count": 23,
   "metadata": {},
   "outputs": [
    {
     "name": "stdout",
     "output_type": "stream",
     "text": [
      "[1550, 1700, 900, 850, 1000, 950]\n",
      "The average rent is 1158.33\n",
      "The standard deviation is 335.93\n"
     ]
    }
   ],
   "source": [
    "import numpy as np\n",
    "\n",
    "x=list([1550,1700,900,850,1000,950])\n",
    "print(x)\n",
    "\n",
    "mean=np.mean(x)\n",
    "print(\"The average rent is {:.2f}\".format(mean))\n",
    "variance=np.var(x)\n",
    "std=np.std(x)\n",
    "print(\"The standard deviation is {:.2f}\".format(std))"
   ]
  },
  {
   "cell_type": "markdown",
   "metadata": {},
   "source": [
    "2. Find the variance for the following set of data representing trees in California (heights in feet):3, 21, 98, 203, 17, 9"
   ]
  },
  {
   "cell_type": "code",
   "execution_count": 24,
   "metadata": {},
   "outputs": [
    {
     "name": "stdout",
     "output_type": "stream",
     "text": [
      "[3, 21, 98, 203, 17, 9]\n",
      "the variance is 5183.25\n"
     ]
    }
   ],
   "source": [
    "x=list([3, 21, 98, 203, 17, 9])\n",
    "print(x)\n",
    "variance=np.var(x)\n",
    "print(\"the variance is {:.2f}\".format(variance))"
   ]
  },
  {
   "cell_type": "markdown",
   "metadata": {},
   "source": [
    "3. In a class on 100 students, 80 students passed in all subjects, 10 failed in onesubject, 7 failed in two subjects and 3 failed in three subjects. Find theprobability distribution of the variable for number of subjects a student fromthe given class has failed in."
   ]
  },
  {
   "cell_type": "code",
   "execution_count": 6,
   "metadata": {},
   "outputs": [
    {
     "name": "stdout",
     "output_type": "stream",
     "text": [
      "Total number of students in class : 100\n",
      "Probability of failing in 0 subjects : 0.8\n",
      "Probability of failing in 1 subjects : 0.1\n",
      "Probability of failing in 2 subjects : 0.07\n",
      "Probability of failing in 3 subjects : 0.03\n"
     ]
    }
   ],
   "source": [
    "print(\"Total number of students in class : 100\")\n",
    "print(\"Probability of failing in {} subjects : {}\".format(0, 80/100))\n",
    "print(\"Probability of failing in {} subjects : {}\".format(1, 10/100))\n",
    "print(\"Probability of failing in {} subjects : {}\".format(2, 7/100))\n",
    "print(\"Probability of failing in {} subjects : {}\".format(3, 3/100))"
   ]
  },
  {
   "cell_type": "markdown",
   "metadata": {},
   "source": [
    "2.2. Problem Statement: STATISTICS 2\n",
    "\n",
    "1. A test is conducted which is consisting of 20 MCQs (multiple choices questions)with every MCQ having its four options out of which only one is correct.Determine the probability that a person undertaking that test has answered exactly 5 questions wrong."
   ]
  },
  {
   "cell_type": "code",
   "execution_count": 25,
   "metadata": {},
   "outputs": [
    {
     "name": "stdout",
     "output_type": "stream",
     "text": [
      "n_fact 2432902008176640000\n",
      "n_fact 2432902008176640000\n",
      "fail_fact 120\n",
      "probability to get 5 wrong is : 3.4264958230778575e-06\n"
     ]
    }
   ],
   "source": [
    "from functools import reduce\n",
    "from scipy import stats\n",
    "import scipy\n",
    "n=20\n",
    "s=5\n",
    "k=15\n",
    "\n",
    "p=1/4\n",
    "q=1-p\n",
    "\n",
    "array=[i for i in range(1,21)]\n",
    "n_fact=reduce(lambda x,y : x*y,array)\n",
    "print(\"n_fact\",n_fact)\n",
    "\n",
    "pass_fact=reduce(lambda x,y:x*y,array[0:15])\n",
    "print(\"n_fact\",n_fact)\n",
    "\n",
    "fail_fact=reduce(lambda x,y :x*y, array[0:5])\n",
    "print(\"fail_fact\",fail_fact)\n",
    "\n",
    "prob=(n_fact/(pass_fact*fail_fact))*(p**k)*(q**s)\n",
    "print(\"probability to get 5 wrong is :\",prob)"
   ]
  },
  {
   "cell_type": "code",
   "execution_count": 26,
   "metadata": {},
   "outputs": [
    {
     "data": {
      "text/plain": [
       "3.4264958230778435e-06"
      ]
     },
     "execution_count": 26,
     "metadata": {},
     "output_type": "execute_result"
    }
   ],
   "source": [
    "scipy.stats.binom.pmf(s,n,q)"
   ]
  },
  {
   "cell_type": "markdown",
   "metadata": {},
   "source": [
    "2. A die marked A to E is rolled 50 times. Find the probability of getting a\n",
    "“D” exactly 5 times."
   ]
  },
  {
   "cell_type": "code",
   "execution_count": 5,
   "metadata": {},
   "outputs": [
    {
     "name": "stdout",
     "output_type": "stream",
     "text": [
      "Probability of coming D  0.2\n",
      "Probability of. getting a “D” exactly 5 times 0.029531204310523224\n"
     ]
    }
   ],
   "source": [
    "from scipy import stats\n",
    "import scipy\n",
    "n=50\n",
    "p=1/5\n",
    "print(\"Probability of coming D \",p)\n",
    "\n",
    "prob=stats.binom.pmf(5,n,p)\n",
    "print(\"Probability of. getting a “D” exactly 5 times\",prob)"
   ]
  },
  {
   "cell_type": "markdown",
   "metadata": {},
   "source": [
    "3. Two balls are drawn at random in succession without replacement from an urn containing 4 red balls and 6 black balls. Find the probabilities of all the possible outcomes."
   ]
  },
  {
   "cell_type": "code",
   "execution_count": 6,
   "metadata": {},
   "outputs": [
    {
     "name": "stdout",
     "output_type": "stream",
     "text": [
      "The probabilities of all possible outcomes of picking Red ball first,Black Ball second is(0.40,0.67)\n",
      "The probabilities of all possible outcomes of picking Black ball first,Red Ball second is(0.60,0.44)\n",
      "The probabilities of all possible outcomes of picking both the balls as Black is 0.0000000002\n",
      "The probabilities of all possible outcomes of picking both the balls as Red is is(0.0000000001\n"
     ]
    }
   ],
   "source": [
    "from scipy.special import factorial\n",
    "red_ball=4\n",
    "black_ball=6\n",
    "total_balls=red_ball + black_ball\n",
    "p_first_red_ball=red_ball/total_balls\n",
    "p_second_black_ball=black_ball/(total_balls-1)\n",
    "p_first_black_ball=black_ball/total_balls\n",
    "p_second_red_ball=red_ball/(total_balls-1)\n",
    "P_2_r=(factorial(red_ball)/(factorial(2)*factorial(red_ball-2)))/(factorial(total_balls)/factorial(2)*factorial(total_balls-2))\n",
    "P_2_b=(factorial(black_ball)/(factorial(2)*factorial(black_ball-2)))/(factorial(total_balls)/factorial(2)*factorial(total_balls-2))\n",
    "print(\"The probabilities of all possible outcomes of picking Red ball first,Black Ball second is({:0.2f},{:0.2f})\".format(p_first_red_ball,p_second_black_ball))\n",
    "print(\"The probabilities of all possible outcomes of picking Black ball first,Red Ball second is({:0.2f},{:0.2f})\".format(p_first_black_ball,p_second_red_ball))\n",
    "print(\"The probabilities of all possible outcomes of picking both the balls as Black is {:0.10f}\".format(P_2_b))\n",
    "print(\"The probabilities of all possible outcomes of picking both the balls as Red is is({:0.10f}\".format(P_2_r))"
   ]
  },
  {
   "cell_type": "markdown",
   "metadata": {},
   "source": [
    "2.3. Problem Statement: STATISTICS 3\n",
    "\n",
    "Blood glucose levels for obese patients have a mean of 100 with a standard deviation of 15. A researcher thinks that a diet high in raw cornstarch will have a positive effect on blood glucose levels. A sample of 36 patients who have tried the raw\n",
    "cornstarch diet have a mean glucose level of 108. Test the hypothesis that the raw cornstarch had an effect or not."
   ]
  },
  {
   "cell_type": "code",
   "execution_count": 7,
   "metadata": {},
   "outputs": [
    {
     "name": "stdout",
     "output_type": "stream",
     "text": [
      "The z score is 3.2\n",
      "By looking this value up in z table, we get a value of 0.9993\n",
      "Which implies the probability of having value less than 108 is 99.93% and more than or equals to 108 is 0.007\n",
      "It is less than 0.05 so we will reject the Null hypothesis i.e. there is raw cornstarch effect\n"
     ]
    }
   ],
   "source": [
    "import math\n",
    "Sample_count=36\n",
    "Sample_Mean=108\n",
    "Population_Mean=100\n",
    "Population_sigma=15\n",
    "z=(Sample_Mean-Population_Mean)/(Population_sigma/math.sqrt(Sample_count))\n",
    "print('The z score is',z)\n",
    "print('By looking this value up in z table, we get a value of 0.9993')\n",
    "print('Which implies the probability of having value less than 108 is 99.93% and more than or equals to 108 is 0.007')\n",
    "print('It is less than 0.05 so we will reject the Null hypothesis i.e. there is raw cornstarch effect')"
   ]
  },
  {
   "cell_type": "markdown",
   "metadata": {},
   "source": [
    "1. In one state, 52% of the voters are Republicans, and 48% are Democrats. In a second state, 47% of the voters are Republicans, and 53% are Democrats. Suppose a simple random sample of 100 voters are surveyed from each state. What is the probability that the survey will show a greater percentage of Republican voters in the second state than in the first state?"
   ]
  },
  {
   "cell_type": "code",
   "execution_count": 8,
   "metadata": {},
   "outputs": [
    {
     "name": "stdout",
     "output_type": "stream",
     "text": [
      "Mu:  0.050000000000000044 Std:  0.07061869440877536\n",
      "Z_score(P_1,P_2): -0.7080278164104213\n",
      "The probability that the surbay will show a greater percentage of Republican voters in the second state than in the first state id 0.24.\n"
     ]
    }
   ],
   "source": [
    "N1=100\n",
    "N2=100\n",
    "P1=0.52\n",
    "Q1=0.48\n",
    "P2=0.47\n",
    "Q2=0.53\n",
    "mu=P1-P2\n",
    "std=math.sqrt(((P1*Q1)/N1)+((P2*Q2)/N2))\n",
    "print(\"Mu: \",mu,\"Std: \",std)\n",
    "x=0\n",
    "Z=(x-mu)/std\n",
    "print(\"Z_score(P_1,P_2):\",Z)\n",
    "print(\"The probability that the surbay will show a greater percentage of Republican voters in the second state than in the first state id 0.24.\")"
   ]
  },
  {
   "cell_type": "markdown",
   "metadata": {},
   "source": [
    "2. You take the SAT and score 1100. The mean score for the SAT is 1026 and the standard deviation is 209. How well did you score on the test compared to the average test taker?"
   ]
  },
  {
   "cell_type": "code",
   "execution_count": 9,
   "metadata": {},
   "outputs": [
    {
     "name": "stdout",
     "output_type": "stream",
     "text": [
      "Z Score: 0.35406698564593303\n",
      "The above calculatioin shows that my score is 0.35 standard deviations above the mean\n"
     ]
    }
   ],
   "source": [
    "x=1100\n",
    "mu=1026\n",
    "sd=209\n",
    "z=(x-mu)/sd\n",
    "print(\"Z Score:\",z)\n",
    "print(\"The above calculatioin shows that my score is 0.35 standard deviations above the mean\")"
   ]
  },
  {
   "cell_type": "markdown",
   "metadata": {},
   "source": [
    "2.4. Problem Statement: STATISTICS 4\n",
    "\n",
    "1. Is gender independent of education level? A random sample of 395 people were surveyed and each person was asked to report the highest education level they obtained. The data that resulted from the survey is summarized in the following table: High-School Bachelor Masters Ph.D. Total Female 60 54 46 41 201 Male 40 44 53 57 194 Total 100 98 99 98 395\n",
    "\n",
    "Question: Are gender and education level dependent at 5% level of significance? In other words, given the data collected above, is there a relationship between the gender of an individual and the level of education that they have obtained?"
   ]
  },
  {
   "cell_type": "code",
   "execution_count": 11,
   "metadata": {},
   "outputs": [
    {
     "name": "stdout",
     "output_type": "stream",
     "text": [
      "[40, 44, 53, 57, 60, 54, 46, 41]\n",
      "     Education  Marks Sex\n",
      "0  High_school     40   M\n",
      "1    Bachelors     44   M\n",
      "2      Masters     53   M\n",
      "3         Ph.d     57   M\n",
      "4  High_school     60   F\n",
      "5    Bachelors     54   F\n",
      "6      Masters     46   F\n",
      "7         Ph.d     41   F\n"
     ]
    }
   ],
   "source": [
    "import numpy as np\n",
    "import pandas as pd\n",
    "import scipy.stats as stats\n",
    "male=[40,44,53,57]\n",
    "female=[60,54,46,41]\n",
    "High_school=[60,40]\n",
    "Bachelors=[54,44]\n",
    "Masters=[46,53]\n",
    "Phd=[41,57]\n",
    "marks=male+female\n",
    "print(marks)\n",
    "sex=['M','M','M','M','F','F','F','F']\n",
    "education=[\"High_school\",\"Bachelors\",\"Masters\",\"Ph.d\",\"High_school\",\"Bachelors\",\"Masters\",\"Ph.d\"]\n",
    "Df=pd.DataFrame({\"Education\":education,\"Marks\":marks,\"Sex\":sex})\n",
    "print(Df)"
   ]
  },
  {
   "cell_type": "code",
   "execution_count": 12,
   "metadata": {},
   "outputs": [
    {
     "data": {
      "text/html": [
       "<div>\n",
       "<style scoped>\n",
       "    .dataframe tbody tr th:only-of-type {\n",
       "        vertical-align: middle;\n",
       "    }\n",
       "\n",
       "    .dataframe tbody tr th {\n",
       "        vertical-align: top;\n",
       "    }\n",
       "\n",
       "    .dataframe thead th {\n",
       "        text-align: right;\n",
       "    }\n",
       "</style>\n",
       "<table border=\"1\" class=\"dataframe\">\n",
       "  <thead>\n",
       "    <tr style=\"text-align: right;\">\n",
       "      <th></th>\n",
       "      <th>Education</th>\n",
       "      <th>Bachelors</th>\n",
       "      <th>High_school</th>\n",
       "      <th>Masters</th>\n",
       "      <th>Ph.d</th>\n",
       "      <th>All</th>\n",
       "    </tr>\n",
       "    <tr>\n",
       "      <th>Sex</th>\n",
       "      <th>Marks</th>\n",
       "      <th></th>\n",
       "      <th></th>\n",
       "      <th></th>\n",
       "      <th></th>\n",
       "      <th></th>\n",
       "    </tr>\n",
       "  </thead>\n",
       "  <tbody>\n",
       "    <tr>\n",
       "      <td rowspan=\"4\" valign=\"top\">F</td>\n",
       "      <td>41</td>\n",
       "      <td>0</td>\n",
       "      <td>0</td>\n",
       "      <td>0</td>\n",
       "      <td>1</td>\n",
       "      <td>1</td>\n",
       "    </tr>\n",
       "    <tr>\n",
       "      <td>46</td>\n",
       "      <td>0</td>\n",
       "      <td>0</td>\n",
       "      <td>1</td>\n",
       "      <td>0</td>\n",
       "      <td>1</td>\n",
       "    </tr>\n",
       "    <tr>\n",
       "      <td>54</td>\n",
       "      <td>1</td>\n",
       "      <td>0</td>\n",
       "      <td>0</td>\n",
       "      <td>0</td>\n",
       "      <td>1</td>\n",
       "    </tr>\n",
       "    <tr>\n",
       "      <td>60</td>\n",
       "      <td>0</td>\n",
       "      <td>1</td>\n",
       "      <td>0</td>\n",
       "      <td>0</td>\n",
       "      <td>1</td>\n",
       "    </tr>\n",
       "    <tr>\n",
       "      <td rowspan=\"4\" valign=\"top\">M</td>\n",
       "      <td>40</td>\n",
       "      <td>0</td>\n",
       "      <td>1</td>\n",
       "      <td>0</td>\n",
       "      <td>0</td>\n",
       "      <td>1</td>\n",
       "    </tr>\n",
       "    <tr>\n",
       "      <td>44</td>\n",
       "      <td>1</td>\n",
       "      <td>0</td>\n",
       "      <td>0</td>\n",
       "      <td>0</td>\n",
       "      <td>1</td>\n",
       "    </tr>\n",
       "    <tr>\n",
       "      <td>53</td>\n",
       "      <td>0</td>\n",
       "      <td>0</td>\n",
       "      <td>1</td>\n",
       "      <td>0</td>\n",
       "      <td>1</td>\n",
       "    </tr>\n",
       "    <tr>\n",
       "      <td>57</td>\n",
       "      <td>0</td>\n",
       "      <td>0</td>\n",
       "      <td>0</td>\n",
       "      <td>1</td>\n",
       "      <td>1</td>\n",
       "    </tr>\n",
       "    <tr>\n",
       "      <td>All</td>\n",
       "      <td></td>\n",
       "      <td>2</td>\n",
       "      <td>2</td>\n",
       "      <td>2</td>\n",
       "      <td>2</td>\n",
       "      <td>8</td>\n",
       "    </tr>\n",
       "  </tbody>\n",
       "</table>\n",
       "</div>"
      ],
      "text/plain": [
       "Education  Bachelors  High_school  Masters  Ph.d  All\n",
       "Sex Marks                                            \n",
       "F   41             0            0        0     1    1\n",
       "    46             0            0        1     0    1\n",
       "    54             1            0        0     0    1\n",
       "    60             0            1        0     0    1\n",
       "M   40             0            1        0     0    1\n",
       "    44             1            0        0     0    1\n",
       "    53             0            0        1     0    1\n",
       "    57             0            0        0     1    1\n",
       "All                2            2        2     2    8"
      ]
     },
     "execution_count": 12,
     "metadata": {},
     "output_type": "execute_result"
    }
   ],
   "source": [
    "cross_tab=pd.crosstab([Df.Sex,Df.Marks],Df.Education,margins=True)\n",
    "cross_tab"
   ]
  },
  {
   "cell_type": "code",
   "execution_count": 13,
   "metadata": {},
   "outputs": [
    {
     "data": {
      "text/html": [
       "<div>\n",
       "<style scoped>\n",
       "    .dataframe tbody tr th:only-of-type {\n",
       "        vertical-align: middle;\n",
       "    }\n",
       "\n",
       "    .dataframe tbody tr th {\n",
       "        vertical-align: top;\n",
       "    }\n",
       "\n",
       "    .dataframe thead th {\n",
       "        text-align: right;\n",
       "    }\n",
       "</style>\n",
       "<table border=\"1\" class=\"dataframe\">\n",
       "  <thead>\n",
       "    <tr style=\"text-align: right;\">\n",
       "      <th>Education</th>\n",
       "      <th>Bachelors</th>\n",
       "      <th>High_school</th>\n",
       "      <th>Masters</th>\n",
       "      <th>Ph.d</th>\n",
       "      <th>All</th>\n",
       "    </tr>\n",
       "    <tr>\n",
       "      <th>Sex</th>\n",
       "      <th></th>\n",
       "      <th></th>\n",
       "      <th></th>\n",
       "      <th></th>\n",
       "      <th></th>\n",
       "    </tr>\n",
       "  </thead>\n",
       "  <tbody>\n",
       "    <tr>\n",
       "      <td>F</td>\n",
       "      <td>54</td>\n",
       "      <td>60</td>\n",
       "      <td>46</td>\n",
       "      <td>41</td>\n",
       "      <td>201</td>\n",
       "    </tr>\n",
       "    <tr>\n",
       "      <td>M</td>\n",
       "      <td>44</td>\n",
       "      <td>40</td>\n",
       "      <td>53</td>\n",
       "      <td>57</td>\n",
       "      <td>194</td>\n",
       "    </tr>\n",
       "    <tr>\n",
       "      <td>All</td>\n",
       "      <td>98</td>\n",
       "      <td>100</td>\n",
       "      <td>99</td>\n",
       "      <td>98</td>\n",
       "      <td>395</td>\n",
       "    </tr>\n",
       "  </tbody>\n",
       "</table>\n",
       "</div>"
      ],
      "text/plain": [
       "Education  Bachelors  High_school  Masters  Ph.d  All\n",
       "Sex                                                  \n",
       "F                 54           60       46    41  201\n",
       "M                 44           40       53    57  194\n",
       "All               98          100       99    98  395"
      ]
     },
     "execution_count": 13,
     "metadata": {},
     "output_type": "execute_result"
    }
   ],
   "source": [
    "Df1=pd.crosstab(Df.Sex, Df.Education,Df.Marks, aggfunc=\"sum\",margins=True)\n",
    "Df1"
   ]
  },
  {
   "cell_type": "code",
   "execution_count": 14,
   "metadata": {},
   "outputs": [
    {
     "data": {
      "text/html": [
       "<div>\n",
       "<style scoped>\n",
       "    .dataframe tbody tr th:only-of-type {\n",
       "        vertical-align: middle;\n",
       "    }\n",
       "\n",
       "    .dataframe tbody tr th {\n",
       "        vertical-align: top;\n",
       "    }\n",
       "\n",
       "    .dataframe thead th {\n",
       "        text-align: right;\n",
       "    }\n",
       "</style>\n",
       "<table border=\"1\" class=\"dataframe\">\n",
       "  <thead>\n",
       "    <tr style=\"text-align: right;\">\n",
       "      <th></th>\n",
       "      <th>Bachelors</th>\n",
       "      <th>High_school</th>\n",
       "      <th>Masters</th>\n",
       "      <th>Ph.d</th>\n",
       "      <th>Genderwise_total</th>\n",
       "    </tr>\n",
       "  </thead>\n",
       "  <tbody>\n",
       "    <tr>\n",
       "      <td>Female</td>\n",
       "      <td>54</td>\n",
       "      <td>60</td>\n",
       "      <td>46</td>\n",
       "      <td>41</td>\n",
       "      <td>201</td>\n",
       "    </tr>\n",
       "    <tr>\n",
       "      <td>Male</td>\n",
       "      <td>44</td>\n",
       "      <td>40</td>\n",
       "      <td>53</td>\n",
       "      <td>57</td>\n",
       "      <td>194</td>\n",
       "    </tr>\n",
       "    <tr>\n",
       "      <td>Combined</td>\n",
       "      <td>98</td>\n",
       "      <td>100</td>\n",
       "      <td>99</td>\n",
       "      <td>98</td>\n",
       "      <td>395</td>\n",
       "    </tr>\n",
       "  </tbody>\n",
       "</table>\n",
       "</div>"
      ],
      "text/plain": [
       "          Bachelors  High_school  Masters  Ph.d  Genderwise_total\n",
       "Female           54           60       46    41               201\n",
       "Male             44           40       53    57               194\n",
       "Combined         98          100       99    98               395"
      ]
     },
     "execution_count": 14,
     "metadata": {},
     "output_type": "execute_result"
    }
   ],
   "source": [
    "Df1.columns=[\"Bachelors\",\"High_school\",\"Masters\",\"Ph.d\",\"Genderwise_total\"]\n",
    "Df1.index=[\"Female\",\"Male\",\"Combined\"]\n",
    "Df1"
   ]
  },
  {
   "cell_type": "code",
   "execution_count": 15,
   "metadata": {},
   "outputs": [
    {
     "data": {
      "text/html": [
       "<div>\n",
       "<style scoped>\n",
       "    .dataframe tbody tr th:only-of-type {\n",
       "        vertical-align: middle;\n",
       "    }\n",
       "\n",
       "    .dataframe tbody tr th {\n",
       "        vertical-align: top;\n",
       "    }\n",
       "\n",
       "    .dataframe thead th {\n",
       "        text-align: right;\n",
       "    }\n",
       "</style>\n",
       "<table border=\"1\" class=\"dataframe\">\n",
       "  <thead>\n",
       "    <tr style=\"text-align: right;\">\n",
       "      <th></th>\n",
       "      <th>Bachelors</th>\n",
       "      <th>High_school</th>\n",
       "      <th>Masters</th>\n",
       "      <th>Ph.d</th>\n",
       "    </tr>\n",
       "  </thead>\n",
       "  <tbody>\n",
       "    <tr>\n",
       "      <td>Female</td>\n",
       "      <td>54</td>\n",
       "      <td>60</td>\n",
       "      <td>46</td>\n",
       "      <td>41</td>\n",
       "    </tr>\n",
       "    <tr>\n",
       "      <td>Male</td>\n",
       "      <td>44</td>\n",
       "      <td>40</td>\n",
       "      <td>53</td>\n",
       "      <td>57</td>\n",
       "    </tr>\n",
       "  </tbody>\n",
       "</table>\n",
       "</div>"
      ],
      "text/plain": [
       "        Bachelors  High_school  Masters  Ph.d\n",
       "Female         54           60       46    41\n",
       "Male           44           40       53    57"
      ]
     },
     "execution_count": 15,
     "metadata": {},
     "output_type": "execute_result"
    }
   ],
   "source": [
    "Df2=Df1.iloc[0:2,0:4]\n",
    "Df2"
   ]
  },
  {
   "cell_type": "code",
   "execution_count": 16,
   "metadata": {},
   "outputs": [
    {
     "data": {
      "text/html": [
       "<div>\n",
       "<style scoped>\n",
       "    .dataframe tbody tr th:only-of-type {\n",
       "        vertical-align: middle;\n",
       "    }\n",
       "\n",
       "    .dataframe tbody tr th {\n",
       "        vertical-align: top;\n",
       "    }\n",
       "\n",
       "    .dataframe thead th {\n",
       "        text-align: right;\n",
       "    }\n",
       "</style>\n",
       "<table border=\"1\" class=\"dataframe\">\n",
       "  <thead>\n",
       "    <tr style=\"text-align: right;\">\n",
       "      <th></th>\n",
       "      <th>Bachelors</th>\n",
       "      <th>High_School</th>\n",
       "      <th>Masters</th>\n",
       "      <th>Ph.d</th>\n",
       "    </tr>\n",
       "  </thead>\n",
       "  <tbody>\n",
       "    <tr>\n",
       "      <td>Female</td>\n",
       "      <td>49.868354</td>\n",
       "      <td>50.886076</td>\n",
       "      <td>50.377215</td>\n",
       "      <td>49.868354</td>\n",
       "    </tr>\n",
       "    <tr>\n",
       "      <td>Male</td>\n",
       "      <td>48.131646</td>\n",
       "      <td>49.113924</td>\n",
       "      <td>48.622785</td>\n",
       "      <td>48.131646</td>\n",
       "    </tr>\n",
       "  </tbody>\n",
       "</table>\n",
       "</div>"
      ],
      "text/plain": [
       "        Bachelors  High_School    Masters       Ph.d\n",
       "Female  49.868354    50.886076  50.377215  49.868354\n",
       "Male    48.131646    49.113924  48.622785  48.131646"
      ]
     },
     "execution_count": 16,
     "metadata": {},
     "output_type": "execute_result"
    }
   ],
   "source": [
    "Df3=np.outer(Df1[\"Genderwise_total\"][0:2],Df1.loc[\"Combined\"][0:4])/395.0\n",
    "Df3=pd.DataFrame(Df3)\n",
    "Df3.columns=[\"Bachelors\",\"High_School\",\"Masters\",\"Ph.d\"]\n",
    "Df3.index=[\"Female\",\"Male\"]\n",
    "Df3"
   ]
  },
  {
   "cell_type": "code",
   "execution_count": 17,
   "metadata": {},
   "outputs": [
    {
     "name": "stdout",
     "output_type": "stream",
     "text": [
      "4.682478001917256\n"
     ]
    }
   ],
   "source": [
    "chi_squared_stat=(((Df3-Df2)**2)/Df3).sum().sum()\n",
    "print(chi_squared_stat)"
   ]
  },
  {
   "cell_type": "code",
   "execution_count": 18,
   "metadata": {},
   "outputs": [
    {
     "name": "stdout",
     "output_type": "stream",
     "text": [
      "Critical value\n",
      "7.814727903251179\n"
     ]
    }
   ],
   "source": [
    "cvalue=stats.chi2.ppf(q=0.95,df=3)\n",
    "print(\"Critical value\")\n",
    "print(cvalue)"
   ]
  },
  {
   "cell_type": "code",
   "execution_count": 19,
   "metadata": {},
   "outputs": [
    {
     "name": "stdout",
     "output_type": "stream",
     "text": [
      "P value\n",
      "0.19657984145597762\n"
     ]
    }
   ],
   "source": [
    "p_value=1-stats.chi2.cdf(x=chi_squared_stat,df=3)\n",
    "print(\"P value\")\n",
    "print(p_value)"
   ]
  },
  {
   "cell_type": "code",
   "execution_count": 20,
   "metadata": {},
   "outputs": [
    {
     "name": "stdout",
     "output_type": "stream",
     "text": [
      "(8.006066246262538, 0.045886500891747214, 3, array([[49.86835443, 50.88607595, 50.37721519, 49.86835443],\n",
      "       [48.13164557, 49.11392405, 48.62278481, 48.13164557]]))\n",
      "*******************************************************************************************************************\n",
      "The outpout shows the chi-square statistics= 8, the p-value as 0.045 and the degrees of freedom as 3\n",
      "The critical value with 3 degree of freedom is 7.815. Since 8.006>7.815, therefore we reject the null hypothesis and conclude that the education level depends on gender at a 5% level of significance.\n"
     ]
    }
   ],
   "source": [
    "result=stats.chi2_contingency(observed=Df2)\n",
    "print(result)\n",
    "print('*'*115)\n",
    "print(\"The outpout shows the chi-square statistics= 8, the p-value as 0.045 and the degrees of freedom as 3\")\n",
    "print(\"The critical value with 3 degree of freedom is 7.815. Since 8.006>7.815, therefore we reject the null hypothesis and conclude that the education level depends on gender at a 5% level of significance.\")"
   ]
  },
  {
   "cell_type": "markdown",
   "metadata": {},
   "source": [
    "2. Using the following data, perform a one-way analysis of variance using α=.05.\n",
    "\n",
    "Write up the results in APA format.\n",
    "\n",
    "[Group1: 51, 45, 33, 45, 67]\n",
    "[Group2: 23, 43, 23, 43, 45]\n",
    "[Group3: 56, 76, 74, 87, 56]"
   ]
  },
  {
   "cell_type": "code",
   "execution_count": 21,
   "metadata": {},
   "outputs": [
    {
     "name": "stdout",
     "output_type": "stream",
     "text": [
      "F Statistic value9.747205503009463, p-value0.0030597541434430556\n",
      "True\n",
      "*******************************************************************************************************************\n",
      "The test result suggests the groups have different same sample means in this example,since the p_value is significant at a 99% confidence level. Here the p_value returned is 0.00305 which is <0.05\n"
     ]
    }
   ],
   "source": [
    "import scipy.stats as stats\n",
    "Group1= [51, 45, 33, 45, 67]\n",
    "Group2= [23, 43, 23, 43, 45]\n",
    "Group3= [56, 76, 74, 87, 56]\n",
    "statistic, pvalue=stats.f_oneway(Group1,Group2,Group3)\n",
    "print(\"F Statistic value{}, p-value{}\".format(statistic,pvalue))\n",
    "if pvalue<0.05:\n",
    "    print(\"True\")\n",
    "else:\n",
    "    print(\"False\")\n",
    "print(\"*\"*115)\n",
    "print(\"The test result suggests the groups have different same sample means in this example,since the p_value is significant at a 99% confidence level. Here the p_value returned is 0.00305 which is <0.05\")"
   ]
  },
  {
   "cell_type": "markdown",
   "metadata": {},
   "source": [
    "3. Calculate F Test for given 10, 20, 30, 40, 50 and 5,10,15, 20, 25.\n",
    "\n",
    "For 10, 20, 30, 40, 50:"
   ]
  },
  {
   "cell_type": "code",
   "execution_count": 22,
   "metadata": {},
   "outputs": [
    {
     "data": {
      "text/plain": [
       "F_onewayResult(statistic=3.6, pvalue=0.0943497728424377)"
      ]
     },
     "execution_count": 22,
     "metadata": {},
     "output_type": "execute_result"
    }
   ],
   "source": [
    "import numpy as np\n",
    "import scipy.stats as st\n",
    "st.f_oneway([10,20,30,40,50],[5,10,15,20,25])"
   ]
  },
  {
   "cell_type": "code",
   "execution_count": null,
   "metadata": {},
   "outputs": [],
   "source": []
  }
 ],
 "metadata": {
  "kernelspec": {
   "display_name": "Python 3",
   "language": "python",
   "name": "python3"
  },
  "language_info": {
   "codemirror_mode": {
    "name": "ipython",
    "version": 3
   },
   "file_extension": ".py",
   "mimetype": "text/x-python",
   "name": "python",
   "nbconvert_exporter": "python",
   "pygments_lexer": "ipython3",
   "version": "3.7.4"
  }
 },
 "nbformat": 4,
 "nbformat_minor": 4
}
